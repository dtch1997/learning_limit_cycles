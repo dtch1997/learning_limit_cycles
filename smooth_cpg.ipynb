{
 "cells": [
  {
   "cell_type": "markdown",
   "metadata": {},
   "source": [
    "# Generalized CPGs\n"
   ]
  },
  {
   "cell_type": "markdown",
   "metadata": {},
   "source": [
    "## Requirements\n",
    "\n",
    "First, we import the required libraries. "
   ]
  },
  {
   "cell_type": "code",
   "execution_count": null,
   "metadata": {},
   "outputs": [],
   "source": [
    "import numpy as np\n",
    "import matplotlib.pyplot as plt\n",
    "import jax.numpy as jnp\n",
    "from jax import grad, jit, vmap\n",
    "\n",
    "from vector_field import vector_field, utilities"
   ]
  },
  {
   "cell_type": "markdown",
   "metadata": {},
   "source": [
    "To model the tangential flow, we construct a simple counterclockwise rotational field."
   ]
  },
  {
   "cell_type": "code",
   "execution_count": null,
   "metadata": {},
   "outputs": [],
   "source": [
    "# Defining a general class of functions which define the\n",
    "# tangential component of the CPG update. \n",
    "\n",
    "class SimpleRotationalField(vector_field.VectorField):\n",
    "    def __init__(self):\n",
    "        pass \n",
    "    def get_gradient(self,x):\n",
    "        theta = np.arctan2(x[0], x[1])\n",
    "        return np.array([-np.cos(theta), np.sin(theta)])"
   ]
  },
  {
   "cell_type": "markdown",
   "metadata": {},
   "source": [
    "## Constructing a basic CPG\n",
    "\n",
    "Now we're ready to combine the above elements to construct a CPG out of base components. "
   ]
  },
  {
   "cell_type": "code",
   "execution_count": null,
   "metadata": {},
   "outputs": [],
   "source": [
    "square = lambda x: jnp.dot(x, x)\n",
    "inv_sq = lambda x: 1 / jnp.dot(x, x)\n",
    "s1 = vector_field.FunctionalPotentialField(square)\n",
    "s2 = vector_field.FunctionalPotentialField(inv_sq)\n",
    "s3 = vector_field.LinearCombinationPotentialField([s1, s2])\n",
    "\n",
    "m = SimpleRotationalField()\n",
    "d = vector_field.LinearCombinationVectorField([s3, m])"
   ]
  },
  {
   "cell_type": "markdown",
   "metadata": {},
   "source": [
    "We simulate the CPG update for 100 steps with step size of 0.1"
   ]
  },
  {
   "cell_type": "code",
   "execution_count": null,
   "metadata": {},
   "outputs": [],
   "source": [
    "history = utilities.simulate_trajectory(\n",
    "    d, jnp.array([0.5, 0.5]),\n",
    "    step_size = 0.1, num_iters = 100)"
   ]
  },
  {
   "cell_type": "markdown",
   "metadata": {},
   "source": [
    "Lastly, we visualize the resulting trajectory. \n",
    "As we can see, we have constructed a system with stable limit cycle at ```x^2 + y^2 = 1```"
   ]
  },
  {
   "cell_type": "code",
   "execution_count": null,
   "metadata": {},
   "outputs": [],
   "source": [
    "def plot_history(x_history, **subplot_kwargs):\n",
    "    fig, ax = plt.subplots(**subplot_kwargs)\n",
    "    ax.scatter(x_history[:,0], x_history[:,1])\n",
    "    ax.grid(True)\n",
    "\n",
    "plot_history(history, figsize=(8,8))"
   ]
  },
  {
   "cell_type": "markdown",
   "metadata": {},
   "source": [
    "## Linear Transformations\n",
    "\n",
    "We consider linear transformations of 2D space. The transform shown below warps the circle into an ellipse."
   ]
  },
  {
   "cell_type": "code",
   "execution_count": null,
   "metadata": {},
   "outputs": [],
   "source": [
    "A = jnp.array([[1.0, -0.5],[-0.5, 1.0]])\n",
    "\n",
    "def scatter_circle_points():\n",
    "    n = 100\n",
    "    x = np.zeros((100,2))\n",
    "    phases = np.linspace(0, 2*np.pi, n)\n",
    "    for i in range(n):\n",
    "        x[i] = np.array([np.cos(phases[i]), np.sin(phases[i])])\n",
    "    return x \n",
    "\n",
    "fig, ax = plt.subplots(figsize=(5,5))\n",
    "circle_points = scatter_circle_points()\n",
    "ax.scatter(circle_points[:,0], circle_points[:,1])\n",
    "ellipse_points = circle_points @ A.T\n",
    "ax.scatter(ellipse_points[:,0], ellipse_points[:,1])\n",
    "rot_ellipse_points = ellipse_points @ utilities.get_rotational_matrix(np.pi/2).T\n",
    "ax.scatter(rot_ellipse_points[:,0], rot_ellipse_points[:,1])"
   ]
  },
  {
   "cell_type": "code",
   "execution_count": null,
   "metadata": {},
   "outputs": [],
   "source": [
    "f = lambda x: jnp.linalg.inv(A) @ x\n",
    "d_ellipse = vector_field.SmoothTransformationVectorField(d, f)\n",
    "\n",
    "history = utilities.simulate_trajectory(\n",
    "    d_ellipse, jnp.array([0.5, 0.5]),\n",
    "    step_size = 0.1, num_iters = 100, grad_clip=0.1)\n",
    "plot_history(history, figsize=(8,8))"
   ]
  },
  {
   "cell_type": "markdown",
   "metadata": {},
   "source": [
    "We can construct a rotated form of the above elliptical shape with linear transformation as well. "
   ]
  },
  {
   "cell_type": "code",
   "execution_count": null,
   "metadata": {},
   "outputs": [],
   "source": [
    "g = lambda x: np.linalg.inv(utilities.get_rotational_matrix(np.pi/2) @ A) @ x\n",
    "rot_ellipse = vector_field.SmoothTransformationVectorField(d, g)\n",
    "\n",
    "history = utilities.simulate_trajectory(\n",
    "    rot_ellipse, jnp.array([0.5, 0.5]),\n",
    "    step_size = 0.1, num_iters = 100, grad_clip=0.1)\n",
    "plot_history(history, figsize=(8,8))"
   ]
  }
 ],
 "metadata": {
  "interpreter": {
   "hash": "58794497aaf46abe5d1fab5cc23916a38f79a233f4b3f254f0d7e43193129b64"
  },
  "kernelspec": {
   "display_name": "Python 3.8.13 64-bit ('general_cpg': conda)",
   "language": "python",
   "name": "python3"
  },
  "language_info": {
   "codemirror_mode": {
    "name": "ipython",
    "version": 3
   },
   "file_extension": ".py",
   "mimetype": "text/x-python",
   "name": "python",
   "nbconvert_exporter": "python",
   "pygments_lexer": "ipython3",
   "version": "3.8.13"
  }
 },
 "nbformat": 4,
 "nbformat_minor": 2
}
