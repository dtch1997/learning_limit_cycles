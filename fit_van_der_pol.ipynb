{
 "cells": [
  {
   "cell_type": "markdown",
   "metadata": {},
   "source": [
    "## Fitting the VDP oscillator"
   ]
  },
  {
   "cell_type": "code",
   "execution_count": 1,
   "metadata": {},
   "outputs": [],
   "source": [
    "import numpy as np\n",
    "import functorch\n",
    "\n",
    "import torch\n",
    "import torch.nn as nn\n",
    "\n",
    "from torch_vector_field import utilities, plotting, vector_field, data_utils, net, train_utils"
   ]
  },
  {
   "cell_type": "code",
   "execution_count": 2,
   "metadata": {},
   "outputs": [],
   "source": [
    "class SmoothTransformationVectorField(nn.Module):\n",
    "    \"\"\"Wrapper for applying a smooth transformation to space to warp a vector field.\n",
    "\n",
    "    v: An underlying vector field which gets transformed\n",
    "    f: A parametric diffeomorphism between manifolds\n",
    "    \"\"\"\n",
    "\n",
    "    def __init__(self, v: nn.Module, f: nn.Module):\n",
    "        super(SmoothTransformationVectorField, self).__init__()\n",
    "        self.v = v\n",
    "        self.f = f\n",
    "        self.device = \"cpu\" # torch.device(\"cuda\" if torch.cuda.is_available() else \"cpu\")\n",
    "\n",
    "        f_fn, f_params, f_buffers = functorch.make_functional_with_buffers(f.to(self.device))\n",
    "\n",
    "        def f_forward_fn(x):\n",
    "            \"\"\" x is assumed not to have the batch dimension \"\"\" \n",
    "            return f_fn(f_params, f_buffers, x)\n",
    "\n",
    "        self.grad_f_fn = functorch.jacfwd(f_forward_fn)\n",
    "\n",
    "    def forward(self, x):\n",
    "        if len(x.shape) == 1:\n",
    "            x = x.unsqueeze(0)\n",
    "\n",
    "        Df = functorch.vmap(self.grad_f_fn)(x)\n",
    "        Df_inv = functorch.vmap(torch.linalg.inv)(Df)\n",
    "        vfx =  self.v(self.f(x))\n",
    "        out = functorch.vmap(lambda x, y: x @ y)(Df_inv, vfx)\n",
    "        return out"
   ]
  },
  {
   "cell_type": "code",
   "execution_count": 3,
   "metadata": {},
   "outputs": [],
   "source": [
    "import icnn\n",
    "\n",
    "class GeneralPotentialField(nn.Module):\n",
    "    def __init__(self):\n",
    "        super(GeneralPotentialField, self).__init__()\n",
    "        self.net = icnn.PartiallyInputConvexNeuralNetwork([2,16,1], [1,16,1])\n",
    "\n",
    "    def forward(self, x):\n",
    "        r, x_unit = net.radial_coordinate_transform(x)\n",
    "        return self.net(x_unit, r)"
   ]
  },
  {
   "cell_type": "markdown",
   "metadata": {},
   "source": [
    "Define a few different model architectures, with varying levels of expressive power"
   ]
  },
  {
   "cell_type": "code",
   "execution_count": 4,
   "metadata": {},
   "outputs": [],
   "source": [
    "def build_full_net():\n",
    "    \"\"\" An expressive parametric CPG, with latent-state dynamics modelling \"\"\"\n",
    "    potential_field = GeneralPotentialField()\n",
    "    rotational_field = net.SimpleRotationalField()\n",
    "    combined_field = net.LinearCombinationWrapper(\n",
    "        net.GradientWrapper(potential_field, positive=False),\n",
    "        rotational_field\n",
    "    )\n",
    "\n",
    "    smooth_transformation = nn.Sequential(\n",
    "        nn.Linear(2, 8),\n",
    "        nn.ELU(),\n",
    "        nn.Linear(8, 2)\n",
    "    )\n",
    "    transformed_field = SmoothTransformationVectorField(combined_field, smooth_transformation)\n",
    "    return transformed_field\n",
    "\n",
    "def build_baseline_1():\n",
    "    \"\"\" A simple circular (no parameters) CPG \"\"\"\n",
    "    potential_field = net.SimplePotentialField()\n",
    "    rotational_field = net.SimpleRotationalField()\n",
    "    combined_field = net.LinearCombinationWrapper(\n",
    "        net.GradientWrapper(potential_field, positive=False),\n",
    "        rotational_field\n",
    "    )\n",
    "    return combined_field\n",
    "\n",
    "def build_baseline_2():\n",
    "    \"\"\" Latent-state dynamics modelling, with a simple CPG \"\"\"\n",
    "    potential_field = net.SimplePotentialField()\n",
    "    rotational_field = net.SimpleRotationalField()\n",
    "    combined_field = net.LinearCombinationWrapper(\n",
    "        net.GradientWrapper(potential_field, positive=False),\n",
    "        rotational_field\n",
    "    )\n",
    "    smooth_transformation = nn.Sequential(\n",
    "        nn.Linear(2, 64),\n",
    "        nn.ELU(),\n",
    "        nn.Linear(64, 64),\n",
    "        nn.ELU(),\n",
    "        nn.Linear(64, 2)\n",
    "    )\n",
    "    transformed_field = SmoothTransformationVectorField(combined_field, smooth_transformation)\n",
    "    return transformed_field\n",
    "\n",
    "def build_baseline_3():\n",
    "    \"\"\"Arbitrary NODE dynamics \"\"\"\n",
    "    vector_field = nn.Sequential(\n",
    "        nn.Linear(2, 64),\n",
    "        nn.ELU(),\n",
    "        nn.Linear(64, 64),\n",
    "        nn.ELU(),\n",
    "        nn.Linear(64, 2)\n",
    "    )\n",
    "    return vector_field\n",
    "\n",
    "def build_baseline_4():\n",
    "    \"\"\"Arbitrary NODE dynamics with latent state embedding \"\"\"\n",
    "    vector_field = nn.Sequential(\n",
    "        nn.Linear(2, 8),\n",
    "        nn.ELU(),\n",
    "        nn.Linear(8,2)\n",
    "    )\n",
    "    smooth_transformation = nn.Sequential(\n",
    "        nn.Linear(2, 64),\n",
    "        nn.ELU(),\n",
    "        nn.Linear(64, 64),\n",
    "        nn.ELU(),\n",
    "        nn.Linear(64, 2)\n",
    "    )\n",
    "    transformed_field = SmoothTransformationVectorField(vector_field, smooth_transformation)\n",
    "    return transformed_field"
   ]
  },
  {
   "cell_type": "code",
   "execution_count": 5,
   "metadata": {},
   "outputs": [],
   "source": [
    "baseline_1 = build_baseline_1()\n",
    "baseline_2 = build_baseline_2()\n",
    "baseline_3 = build_baseline_3()\n",
    "baseline_4 = build_baseline_4()\n",
    "full_net = build_full_net()"
   ]
  },
  {
   "cell_type": "markdown",
   "metadata": {},
   "source": [
    "Load the dataset"
   ]
  },
  {
   "cell_type": "code",
   "execution_count": 6,
   "metadata": {},
   "outputs": [],
   "source": [
    "x_train, dx_train = data_utils.load_dataset('van_der_pol_train')\n",
    "\n",
    "train_ds = torch.utils.data.TensorDataset(\n",
    "    torch.from_numpy(x_train.astype(np.float32)), \n",
    "    torch.from_numpy(dx_train.astype(np.float32))\n",
    ")\n",
    "\n",
    "train_loader = torch.utils.data.DataLoader(train_ds, batch_size = 128)"
   ]
  },
  {
   "cell_type": "markdown",
   "metadata": {},
   "source": [
    "## Fitting the Model"
   ]
  },
  {
   "cell_type": "code",
   "execution_count": 7,
   "metadata": {},
   "outputs": [
    {
     "name": "stdout",
     "output_type": "stream",
     "text": [
      "[0.017686475068330765, 0.056771465577185154, 0.03186905011534691, 0.05208525061607361, 0.017688054591417313, 0.05739934090524912, 0.03195314109325409, 0.053178876638412476, 0.01915418729186058, 0.05964365042746067]\n"
     ]
    },
    {
     "data": {
      "image/png": "[encoded data removed]",
      "text/plain": [
       "<Figure size 432x288 with 1 Axes>"
      ]
     },
     "metadata": {
      "needs_background": "light"
     },
     "output_type": "display_data"
    }
   ],
   "source": [
    "loss_history = train_utils.train(baseline_3, train_loader, learning_rate=1e-3, n_epochs = 2000, grad_clip=5)\n",
    "import matplotlib.pyplot as plt \n",
    "plt.plot(10 * np.arange(len(loss_history)), loss_history)\n",
    "print(loss_history[-10:])"
   ]
  },
  {
   "cell_type": "code",
   "execution_count": 8,
   "metadata": {},
   "outputs": [
    {
     "data": {
      "image/png": "[encoded data removed]",
      "text/plain": [
       "<Figure size 432x288 with 1 Axes>"
      ]
     },
     "metadata": {
      "needs_background": "light"
     },
     "output_type": "display_data"
    }
   ],
   "source": [
    "model = baseline_3\n",
    "model.eval()\n",
    "model.to(\"cpu\")\n",
    "learned_field_wrapper = vector_field.TorchToNumpyVectorFieldWrapper(model)\n",
    "h = utilities.simulate_trajectory(learned_field_wrapper, np.array([3.0, 3.0]), ascending=True, num_iters = 10000, grad_clip=0.5)\n",
    "plotting.plot_histories([h])"
   ]
  },
  {
   "cell_type": "markdown",
   "metadata": {},
   "source": [
    "The arbitrary NODE dynamics with latent state embedding should be strictly more expressive. We investigate whether this is empirically the case"
   ]
  },
  {
   "cell_type": "code",
   "execution_count": 13,
   "metadata": {},
   "outputs": [
    {
     "name": "stdout",
     "output_type": "stream",
     "text": [
      "[0.13353925943374634, 0.6046767234802246, 0.13350428640842438, 0.6044865250587463, 0.1334693878889084, 0.6042960658669472, 0.13343462347984314, 0.6041062921285629, 0.13339963555335999, 0.6039166003465652]\n"
     ]
    },
    {
     "data": {
      "image/png": "[encoded data removed]",
      "text/plain": [
       "<Figure size 432x288 with 1 Axes>"
      ]
     },
     "metadata": {
      "needs_background": "light"
     },
     "output_type": "display_data"
    }
   ],
   "source": [
    "loss_history = train_utils.train(baseline_4, train_loader, learning_rate=1e-5, n_epochs = 5000, grad_clip=5)\n",
    "import matplotlib.pyplot as plt \n",
    "plt.plot(10 * np.arange(len(loss_history)), loss_history)\n",
    "print(loss_history[-10:])"
   ]
  },
  {
   "cell_type": "code",
   "execution_count": 14,
   "metadata": {},
   "outputs": [
    {
     "data": {
      "image/png": "[encoded data removed]",
      "text/plain": [
       "<Figure size 432x288 with 1 Axes>"
      ]
     },
     "metadata": {
      "needs_background": "light"
     },
     "output_type": "display_data"
    }
   ],
   "source": [
    "model = baseline_4\n",
    "model.eval()\n",
    "model.to(\"cpu\")\n",
    "learned_field_wrapper = vector_field.TorchToNumpyVectorFieldWrapper(model)\n",
    "h = utilities.simulate_trajectory(learned_field_wrapper, np.array([3.0, 3.0]), ascending=True, num_iters = 10000, grad_clip=0.1)\n",
    "plotting.plot_histories([h])"
   ]
  },
  {
   "cell_type": "markdown",
   "metadata": {},
   "source": [
    "Compare to the original VDP plot"
   ]
  },
  {
   "cell_type": "code",
   "execution_count": 11,
   "metadata": {},
   "outputs": [
    {
     "data": {
      "image/png": "[encoded data removed]",
      "text/plain": [
       "<Figure size 432x288 with 1 Axes>"
      ]
     },
     "metadata": {
      "needs_background": "light"
     },
     "output_type": "display_data"
    }
   ],
   "source": [
    "mu = 3.0\n",
    "\n",
    "def van_der_pol(x: np.ndarray) -> np.ndarray:\n",
    "    x1, x2 = x[...,0], x[...,1]\n",
    "    dx1 = x2\n",
    "    dx2 = mu * (1 - x1 ** 2) * x2 - x1\n",
    "    dx = np.stack([dx1, dx2], axis=-1)\n",
    "    return dx\n",
    "\n",
    "v = vector_field.FunctionalVectorField(van_der_pol)\n",
    "h = utilities.simulate_trajectory(v, np.array([3.0, 3.0]), ascending=True, num_iters = 2000, grad_clip=1)\n",
    "plotting.plot_histories([h])"
   ]
  },
  {
   "cell_type": "markdown",
   "metadata": {},
   "source": [
    "We look into fitting the models using latent state dynamics from a simple circular CPG and using fully parametric CPG  "
   ]
  },
  {
   "cell_type": "code",
   "execution_count": 15,
   "metadata": {},
   "outputs": [
    {
     "name": "stdout",
     "output_type": "stream",
     "text": [
      "[154.68115234375, 472.6666717529297, 154.58999633789062, 467.8218231201172, 154.59405517578125, 469.5508117675781, 154.65548706054688, 465.1427307128906, 154.91751098632812, 465.72621154785156]\n"
     ]
    },
    {
     "data": {
      "image/png": "[encoded data removed]",
      "text/plain": [
       "<Figure size 432x288 with 1 Axes>"
      ]
     },
     "metadata": {
      "needs_background": "light"
     },
     "output_type": "display_data"
    }
   ],
   "source": [
    "loss_history = train_utils.train(baseline_2, train_loader, learning_rate=1e-4, n_epochs = 5000, grad_clip=5)\n",
    "import matplotlib.pyplot as plt \n",
    "plt.plot(10 * np.arange(len(loss_history)), loss_history)\n",
    "print(loss_history[-10:])"
   ]
  },
  {
   "cell_type": "code",
   "execution_count": 16,
   "metadata": {},
   "outputs": [
    {
     "data": {
      "image/png": "[encoded data removed]",
      "text/plain": [
       "<Figure size 432x288 with 1 Axes>"
      ]
     },
     "metadata": {
      "needs_background": "light"
     },
     "output_type": "display_data"
    }
   ],
   "source": [
    "model = baseline_2\n",
    "model.eval()\n",
    "model.to(\"cpu\")\n",
    "learned_field_wrapper = vector_field.TorchToNumpyVectorFieldWrapper(model)\n",
    "h = utilities.simulate_trajectory(learned_field_wrapper, np.array([3.0, 3.0]), ascending=True, num_iters = 10000, grad_clip=0.1)\n",
    "plotting.plot_histories([h])"
   ]
  },
  {
   "cell_type": "code",
   "execution_count": 17,
   "metadata": {},
   "outputs": [
    {
     "name": "stdout",
     "output_type": "stream",
     "text": [
      "[nan, nan, nan, nan, nan, nan, nan, nan, nan, nan]\n"
     ]
    },
    {
     "data": {
      "image/png": "[encoded data removed]",
      "text/plain": [
       "<Figure size 432x288 with 1 Axes>"
      ]
     },
     "metadata": {
      "needs_background": "light"
     },
     "output_type": "display_data"
    }
   ],
   "source": [
    "loss_history = train_utils.train(full_net, train_loader, learning_rate=1e-4, n_epochs = 5000, grad_clip=5)\n",
    "import matplotlib.pyplot as plt \n",
    "plt.plot(10 * np.arange(len(loss_history)), loss_history)\n",
    "print(loss_history[-10:])"
   ]
  },
  {
   "cell_type": "code",
   "execution_count": null,
   "metadata": {},
   "outputs": [],
   "source": [
    "model = full_net\n",
    "model.eval()\n",
    "model.to(\"cpu\")\n",
    "learned_field_wrapper = vector_field.TorchToNumpyVectorFieldWrapper(model)\n",
    "h = utilities.simulate_trajectory(learned_field_wrapper, np.array([3.0, 3.0]), ascending=True, num_iters = 10000, grad_clip=0.1)\n",
    "plotting.plot_histories([h])"
   ]
  },
  {
   "cell_type": "code",
   "execution_count": null,
   "metadata": {},
   "outputs": [],
   "source": []
  },
  {
   "cell_type": "code",
   "execution_count": null,
   "metadata": {},
   "outputs": [],
   "source": []
  }
 ],
 "metadata": {
  "kernelspec": {
   "display_name": "Python 3 (ipykernel)",
   "language": "python",
   "name": "python3"
  },
  "language_info": {
   "codemirror_mode": {
    "name": "ipython",
    "version": 3
   },
   "file_extension": ".py",
   "mimetype": "text/x-python",
   "name": "python",
   "nbconvert_exporter": "python",
   "pygments_lexer": "ipython3",
   "version": "3.8.13"
  },
  "vscode": {
   "interpreter": {
    "hash": "a206ec0122b7acffea2d2fa9d25828201c2466f59fac81824c088fb35f7dc495"
   }
  }
 },
 "nbformat": 4,
 "nbformat_minor": 2
}
