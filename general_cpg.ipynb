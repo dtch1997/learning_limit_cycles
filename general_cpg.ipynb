{
 "cells": [
  {
   "cell_type": "markdown",
   "metadata": {},
   "source": [
    "# Generalized CPGs\n"
   ]
  },
  {
   "cell_type": "markdown",
   "metadata": {},
   "source": [
    "This notebook presents a general 'recipe' for constructing CPGs. \n",
    "\n",
    "The key insight is to decompose the CPG flow vector into a radial component, which can be represented as the gradient of a potential field, and a tangential component, which can be represented as a simple rotational vector field. "
   ]
  },
  {
   "cell_type": "markdown",
   "metadata": {},
   "source": [
    "## Requirements\n",
    "\n",
    "First, we import the required libraries. "
   ]
  },
  {
   "cell_type": "code",
   "execution_count": 97,
   "metadata": {},
   "outputs": [],
   "source": [
    "import numpy as np\n",
    "import matplotlib.pyplot as plt\n",
    "import jax.numpy as jnp\n",
    "from jax import grad, jit, vmap"
   ]
  },
  {
   "cell_type": "markdown",
   "metadata": {},
   "source": [
    "## Utilities\n",
    "\n",
    "First, we define some base abstractions that will prove to be useful in constructing our general dynamical systems. \n",
    "\n",
    "A useful abstraction is a 2D ```VectorField```, which maps each point in ```R^2``` to a 2D vector. \n",
    "\n",
    "Another useful abstraction is a ```PotentialField``` which describes a 2D surface in R^3, the gradient of which can be projected back to R^2 to obtain a vector. "
   ]
  },
  {
   "cell_type": "code",
   "execution_count": 98,
   "metadata": {},
   "outputs": [],
   "source": [
    "import abc\n",
    "\n",
    "class VectorField(abc.ABC):\n",
    "    \"\"\"Abstract class for a 2D vector field\"\"\"\n",
    "    @abc.abstractmethod\n",
    "    def get_gradient(self, x):\n",
    "        \"\"\"Must be implemented in Jax\"\"\"\n",
    "        pass\n",
    "\n",
    "class PotentialField(VectorField):\n",
    "    \"\"\"Abstract base class for a potential field\"\"\"\n",
    "    @abc.abstractmethod\n",
    "    def get_value(self, x):\n",
    "        \"\"\"Must be implemented in Jax\"\"\"\n",
    "        pass\n",
    "    def get_gradient_fn(self):\n",
    "        return grad(self.get_value)\n",
    "    def get_gradient(self, x):\n",
    "        return grad(self.get_value)(x)\n",
    "\n",
    "class FunctionalPotentialField(PotentialField):\n",
    "    \"\"\"Potential field parametrized by a function R^2 -> R\"\"\"\n",
    "    def __init__(self, f):\n",
    "        self.f = f \n",
    "    def get_value(self, x):\n",
    "        return self.f(x)\n",
    "\n",
    "class LinearCombinationVectorField(VectorField):\n",
    "    def __init__(self, s1, s2, a1 = 0.5, a2 = 0.5):\n",
    "        self.s1 = s1\n",
    "        self.s2 = s2\n",
    "        self.a1 = a1\n",
    "        self.a2 = a2 \n",
    "    def get_gradient(self, x):\n",
    "        return self.a1 * self.s1.get_gradient(x) \\\n",
    "            + self.a2 * self.s2.get_gradient(x)\n",
    "\n",
    "class LinearCombinationPotentialField(LinearCombinationVectorField):\n",
    "    def get_value(self, x):\n",
    "        return self.a1 * self.s1.get_value(x) \\\n",
    "            + self.a2 * self.s2.get_value(x)\n",
    "\n",
    "        "
   ]
  },
  {
   "cell_type": "markdown",
   "metadata": {},
   "source": [
    "To model the tangential flow, we construct a simple counterclockwise rotational field, and present a quick visualization of the resulting flow.  "
   ]
  },
  {
   "cell_type": "code",
   "execution_count": 99,
   "metadata": {},
   "outputs": [
    {
     "data": {
      "image/png": "[encoded data removed]",
      "text/plain": [
       "<Figure size 360x360 with 1 Axes>"
      ]
     },
     "metadata": {
      "needs_background": "light"
     },
     "output_type": "display_data"
    }
   ],
   "source": [
    "# Defining a general class of functions which define the\n",
    "# tangential component of the CPG update. \n",
    "\n",
    "class SimpleRotationalField:\n",
    "    def __init__(self):\n",
    "        pass \n",
    "    def get_gradient(self,x):\n",
    "        theta = np.arctan2(x[0], x[1])\n",
    "        return np.array([-np.cos(theta), np.sin(theta)])\n",
    "\n",
    "def test_rot_field():\n",
    "    map = SimpleRotationalField()\n",
    "\n",
    "    xs = [\n",
    "        np.array([1.0, 0]),\n",
    "        np.array([0, -1.0]),\n",
    "        np.array([-1.0, 0]),\n",
    "        np.array([0, 1.0]),\n",
    "        np.array([0.71, 0.71]),\n",
    "        np.array([-0.71, -0.71]),\n",
    "    ]\n",
    "\n",
    "    fig, ax = plt.subplots(figsize=(5,5))\n",
    "    for x in xs:\n",
    "        ax.arrow(\n",
    "            *x, \n",
    "            *(map.get_gradient(x) * 0.2),\n",
    "            head_width = 0.2,\n",
    "            head_length = 0.2\n",
    "        )\n",
    "\n",
    "test_rot_field()"
   ]
  },
  {
   "cell_type": "markdown",
   "metadata": {},
   "source": [
    "Lastly, we define some utility functions. "
   ]
  },
  {
   "cell_type": "code",
   "execution_count": 100,
   "metadata": {},
   "outputs": [],
   "source": [
    "def simulate_trajectory(\n",
    "    v: VectorField,\n",
    "    x0,  \n",
    "    step_size = 0.01, \n",
    "    num_iters = 1000\n",
    "): \n",
    "    \"\"\"Simulate the trajectory obtained by gradient descent on a surface\"\"\"\n",
    "    grad = None\n",
    "    x = x0\n",
    "    xhist = np.zeros((num_iters, x0.shape[0]))\n",
    "    for i in range(num_iters):\n",
    "        xhist[i] = x\n",
    "        grad = d.get_gradient(x)\n",
    "        x = x - step_size * grad\n",
    "    return xhist\n",
    "\n",
    "def plot_history(x_history, **subplot_kwargs):\n",
    "    fig, ax = plt.subplots(**subplot_kwargs)\n",
    "    ax.scatter(x_history[:,0], x_history[:,1])"
   ]
  },
  {
   "cell_type": "markdown",
   "metadata": {},
   "source": [
    "## Constructing a basic CPG\n",
    "\n",
    "Now we're ready to combine the above elements to construct a CPG out of base components. "
   ]
  },
  {
   "cell_type": "code",
   "execution_count": 101,
   "metadata": {},
   "outputs": [],
   "source": [
    "square = lambda x: jnp.dot(x, x)\n",
    "inv_sq = lambda x: 1 / jnp.dot(x, x)\n",
    "s1 = FunctionalPotentialField(square)\n",
    "s2 = FunctionalPotentialField(inv_sq)\n",
    "s3 = LinearCombinationPotentialField(s1, s2)\n",
    "\n",
    "m = SimpleRotationalField()\n",
    "d = LinearCombinationVectorField(s3, m)"
   ]
  },
  {
   "cell_type": "markdown",
   "metadata": {},
   "source": [
    "We simulate the CPG update for 100 steps with step size of 0.1"
   ]
  },
  {
   "cell_type": "code",
   "execution_count": 102,
   "metadata": {},
   "outputs": [],
   "source": [
    "history = simulate_trajectory(\n",
    "    d, jnp.array([0.5, 0.5]),\n",
    "    step_size = 0.1, num_iters = 100)"
   ]
  },
  {
   "cell_type": "markdown",
   "metadata": {},
   "source": [
    "Lastly, we visualize the resulting trajectory. \n",
    "As we can see, we have constructed a system with stable limit cycle at ```x^2 + y^2 = 1```"
   ]
  },
  {
   "cell_type": "code",
   "execution_count": 103,
   "metadata": {},
   "outputs": [
    {
     "data": {
      "image/png": "[encoded data removed]",
      "text/plain": [
       "<Figure size 576x576 with 1 Axes>"
      ]
     },
     "metadata": {
      "needs_background": "light"
     },
     "output_type": "display_data"
    }
   ],
   "source": [
    "plot_history(history, figsize=(8,8))"
   ]
  }
 ],
 "metadata": {
  "interpreter": {
   "hash": "58794497aaf46abe5d1fab5cc23916a38f79a233f4b3f254f0d7e43193129b64"
  },
  "kernelspec": {
   "display_name": "Python 3.8.13 64-bit ('general_cpg': conda)",
   "language": "python",
   "name": "python3"
  },
  "language_info": {
   "codemirror_mode": {
    "name": "ipython",
    "version": 3
   },
   "file_extension": ".py",
   "mimetype": "text/x-python",
   "name": "python",
   "nbconvert_exporter": "python",
   "pygments_lexer": "ipython3",
   "version": "3.8.13"
  },
  "orig_nbformat": 4
 },
 "nbformat": 4,
 "nbformat_minor": 2
}
