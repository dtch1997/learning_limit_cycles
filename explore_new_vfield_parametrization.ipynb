{
 "cells": [
  {
   "cell_type": "markdown",
   "metadata": {},
   "source": [
    "## Sufficient Condition on Vector Field to have a Limit Cycle\n",
    "\n",
    "We explore a different parametrization of a dynamical system in $R^2$ that exhibits a limit cycle about the origin. \n",
    "\n",
    "Consider dynamics $(\\dot r, \\dot \\theta) = v(r, \\theta)$. We seek to derive sufficient conditions on $v$ such that $v$ exhibits a limit cycle, i.e. a closed loop $S_v$ that is asymptotically stable. \n",
    "\n",
    "Denote $v_\\theta$ to be the restriction of $v$ to the ray $r \\in [0, \\infty]$ along a given angle $\\theta$ from the origin. \n",
    "\n",
    "We argue that the following conditions are sufficient: \n",
    "1. For all $\\theta$, exist constants $a_\\theta < b_\\theta$ such that $v_\\theta(a) > 0, v_\\theta(b) < 0$. \n",
    "2. $v_\\theta$ is monotonic decreasing on $[a_\\theta, b_\\theta]$\n",
    "3. $d\\theta$ is strictly positive\n",
    "\n",
    "Condition 1. and 3. ensure that the two conditions of the Poincare Bendixson Theorem are satisfied, so an invariant loop exists. Condition 2. ensures that this loop is unique and attracting - this follows since the zeroes $r_\\theta^* = 0$ of each $v_\\theta$ exist and are unique.\n"
   ]
  },
  {
   "cell_type": "markdown",
   "metadata": {},
   "source": [
    "## Parametrizing $v$ \n",
    "\n",
    "\n"
   ]
  },
  {
   "cell_type": "code",
   "execution_count": 8,
   "metadata": {},
   "outputs": [],
   "source": [
    "import numpy as np\n",
    "from torch_vector_field import vector_field, utilities, plotting"
   ]
  },
  {
   "cell_type": "code",
   "execution_count": 9,
   "metadata": {},
   "outputs": [],
   "source": [
    "def cart_to_polar(x):\n",
    "    x1, x2 = x[...,0], x[...,1]\n",
    "    r = np.sqrt(x1 ** 2 + x2 ** 2)\n",
    "    theta = np.arctan2(x2, x1)\n",
    "    return np.stack([r, theta], axis=-1)\n",
    "\n",
    "def polar_to_cart(p):\n",
    "    r, theta = p[...,0], p[...,1]\n",
    "    x1 = r * np.cos(theta)\n",
    "    x2 = r * np.sin(theta)\n",
    "    return np.stack([x1, x2], axis=-1)\n",
    "\n",
    "def dpolar_to_dcart(p, dp):\n",
    "    dr, dtheta = dp[...,0], dp[...,1]\n",
    "    r, theta = p[...,0], p[...,1]\n",
    "    dx = dr * np.cos(theta) + r * (-np.sin(theta)) * dtheta \n",
    "    dy = dr * np.sin(theta) + r * ( np.cos(theta)) * dtheta\n",
    "    return np.stack([dx, dy], axis=-1)"
   ]
  },
  {
   "cell_type": "code",
   "execution_count": 10,
   "metadata": {},
   "outputs": [
    {
     "name": "stdout",
     "output_type": "stream",
     "text": [
      "[0.51264613 0.42502424] [0.51264613 0.42502424]\n"
     ]
    }
   ],
   "source": [
    "# Test implementation of coordinate transforms\n",
    "\n",
    "x_orig = np.random.uniform(size=(2,))\n",
    "x_pred = polar_to_cart(cart_to_polar(x_orig))\n",
    "\n",
    "print(x_orig, x_pred)"
   ]
  },
  {
   "cell_type": "markdown",
   "metadata": {},
   "source": [
    "### A First Try\n",
    "\n",
    "Let's construct such an example of $v$. \n",
    "\n",
    "The first parametrization we test is simple linear scaling of dr and constant dtheta.  "
   ]
  },
  {
   "cell_type": "code",
   "execution_count": 11,
   "metadata": {},
   "outputs": [
    {
     "data": {
      "text/plain": [
       "array([0.41421356, 1.41421356])"
      ]
     },
     "execution_count": 11,
     "metadata": {},
     "output_type": "execute_result"
    }
   ],
   "source": [
    "def simple_vector_field(p):\n",
    "    \"\"\"p: a 2D point in polar coordinates. Can be batched\"\"\"\n",
    "    r, theta = p[...,0], p[...,1]\n",
    "    dr = -r + 2\n",
    "    dtheta = 1\n",
    "    return np.stack([dr, dtheta], axis=-1)\n",
    "\n",
    "def transformed_vector_field(x):\n",
    "    \"\"\"p: a 2D point in Cartesian coordinates. Can be batched\"\"\"\n",
    "    p = cart_to_polar(x)\n",
    "    dp = simple_vector_field(p)\n",
    "    dx = dpolar_to_dcart(p, dp)\n",
    "    return dx\n",
    "\n",
    "v_field = vector_field.FunctionalVectorField(transformed_vector_field)\n",
    "v_field.get_gradient(np.array([0.5, 0.5]))"
   ]
  },
  {
   "cell_type": "code",
   "execution_count": 12,
   "metadata": {},
   "outputs": [
    {
     "data": {
      "image/png": "[encoded data removed]",
      "text/plain": [
       "<Figure size 360x360 with 1 Axes>"
      ]
     },
     "metadata": {
      "needs_background": "light"
     },
     "output_type": "display_data"
    }
   ],
   "source": [
    "h = utilities.simulate_trajectory(\n",
    "    v_field, \n",
    "    np.array([0.5, 0.5]),\n",
    "    step_size=0.1, \n",
    "    num_iters = 100,\n",
    "    grad_clip=1,\n",
    "    ascending=True\n",
    ")\n",
    "plotting.plot_histories([h], figsize=(5,5))"
   ]
  },
  {
   "cell_type": "markdown",
   "metadata": {},
   "source": [
    "## A Parametric Model\n",
    "\n",
    "Now we consider a more general parametrization of $v$, still respecting the 3 conditions we laid out above. "
   ]
  }
 ],
 "metadata": {
  "kernelspec": {
   "display_name": "Python 3.9.12 ('learning_limit_cycles')",
   "language": "python",
   "name": "python3"
  },
  "language_info": {
   "codemirror_mode": {
    "name": "ipython",
    "version": 3
   },
   "file_extension": ".py",
   "mimetype": "text/x-python",
   "name": "python",
   "nbconvert_exporter": "python",
   "pygments_lexer": "ipython3",
   "version": "3.9.12"
  },
  "orig_nbformat": 4,
  "vscode": {
   "interpreter": {
    "hash": "b19809167874bb61fac33cdee94044af34e461724fe29d0ff4e6de924365d942"
   }
  }
 },
 "nbformat": 4,
 "nbformat_minor": 2
}
