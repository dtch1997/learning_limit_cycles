{
 "cells": [
  {
   "cell_type": "markdown",
   "metadata": {},
   "source": [
    "# Generalized CPGs\n"
   ]
  },
  {
   "cell_type": "markdown",
   "metadata": {},
   "source": [
    "This notebook presents a general 'recipe' for constructing CPGs. \n",
    "\n",
    "The key insight is to decompose the CPG flow vector into a radial component, which can be represented as the gradient of a potential field, and a tangential component, which can be represented as a simple rotational vector field. "
   ]
  },
  {
   "cell_type": "markdown",
   "metadata": {},
   "source": [
    "## Requirements\n",
    "\n",
    "First, we import the required libraries. "
   ]
  },
  {
   "cell_type": "code",
   "execution_count": null,
   "metadata": {},
   "outputs": [],
   "source": [
    "import numpy as np\n",
    "import matplotlib.pyplot as plt\n",
    "import jax.numpy as jnp\n",
    "from jax import grad, jit, vmap"
   ]
  },
  {
   "cell_type": "markdown",
   "metadata": {},
   "source": [
    "## Utilities\n",
    "\n",
    "First, we define some base abstractions that will prove to be useful in constructing our general dynamical systems. \n",
    "\n",
    "A useful abstraction is a 2D ```VectorField```, which maps each point in ```R^2``` to a 2D vector. \n",
    "\n",
    "Another useful abstraction is a ```PotentialField``` which describes a 2D surface in R^3, the gradient of which can be projected back to R^2 to obtain a vector. "
   ]
  },
  {
   "cell_type": "code",
   "execution_count": null,
   "metadata": {},
   "outputs": [],
   "source": []
  },
  {
   "cell_type": "markdown",
   "metadata": {},
   "source": [
    "To model the tangential flow, we construct a simple counterclockwise rotational field, and present a quick visualization of the resulting flow.  "
   ]
  },
  {
   "cell_type": "code",
   "execution_count": null,
   "metadata": {},
   "outputs": [],
   "source": [
    "# Defining a general class of functions which define the\n",
    "# tangential component of the CPG update. \n",
    "\n",
    "class SimpleRotationalField:\n",
    "    def __init__(self):\n",
    "        pass \n",
    "    def get_gradient(self,x):\n",
    "        theta = np.arctan2(x[0], x[1])\n",
    "        return np.array([-np.cos(theta), np.sin(theta)])\n",
    "\n",
    "def test_rot_field():\n",
    "    map = SimpleRotationalField()\n",
    "\n",
    "    xs = [\n",
    "        np.array([1.0, 0]),\n",
    "        np.array([0, -1.0]),\n",
    "        np.array([-1.0, 0]),\n",
    "        np.array([0, 1.0]),\n",
    "        np.array([0.71, 0.71]),\n",
    "        np.array([-0.71, -0.71]),\n",
    "    ]\n",
    "\n",
    "    fig, ax = plt.subplots(figsize=(5,5))\n",
    "    for x in xs:\n",
    "        ax.arrow(\n",
    "            *x, \n",
    "            *(map.get_gradient(x) * 0.2),\n",
    "            head_width = 0.2,\n",
    "            head_length = 0.2\n",
    "        )\n",
    "\n",
    "test_rot_field()"
   ]
  },
  {
   "cell_type": "markdown",
   "metadata": {},
   "source": [
    "Lastly, we define some utility functions. "
   ]
  },
  {
   "cell_type": "code",
   "execution_count": null,
   "metadata": {},
   "outputs": [],
   "source": [
    "def simulate_trajectory(\n",
    "    v: VectorField,\n",
    "    x0,  \n",
    "    step_size = 0.01, \n",
    "    num_iters = 1000\n",
    "): \n",
    "    \"\"\"Simulate the trajectory obtained by gradient descent on a surface\"\"\"\n",
    "    grad = None\n",
    "    x = x0\n",
    "    xhist = np.zeros((num_iters, x0.shape[0]))\n",
    "    for i in range(num_iters):\n",
    "        xhist[i] = x\n",
    "        grad = d.get_gradient(x)\n",
    "        x = x - step_size * grad\n",
    "    return xhist\n",
    "\n",
    "def plot_history(x_history, **subplot_kwargs):\n",
    "    fig, ax = plt.subplots(**subplot_kwargs)\n",
    "    ax.scatter(x_history[:,0], x_history[:,1])\n",
    "    ax.grid(True)"
   ]
  },
  {
   "cell_type": "markdown",
   "metadata": {},
   "source": [
    "## Constructing a basic CPG\n",
    "\n",
    "Now we're ready to combine the above elements to construct a CPG out of base components. "
   ]
  },
  {
   "cell_type": "code",
   "execution_count": null,
   "metadata": {},
   "outputs": [],
   "source": [
    "square = lambda x: jnp.dot(x, x)\n",
    "inv_sq = lambda x: 1 / jnp.dot(x, x)\n",
    "s1 = FunctionalPotentialField(square)\n",
    "s2 = FunctionalPotentialField(inv_sq)\n",
    "s3 = LinearCombinationPotentialField(s1, s2)\n",
    "\n",
    "m = SimpleRotationalField()\n",
    "d = LinearCombinationVectorField(s3, m)"
   ]
  },
  {
   "cell_type": "markdown",
   "metadata": {},
   "source": [
    "We simulate the CPG update for 100 steps with step size of 0.1"
   ]
  },
  {
   "cell_type": "code",
   "execution_count": null,
   "metadata": {},
   "outputs": [],
   "source": [
    "history = simulate_trajectory(\n",
    "    d, jnp.array([0.5, 0.5]),\n",
    "    step_size = 0.1, num_iters = 100)"
   ]
  },
  {
   "cell_type": "markdown",
   "metadata": {},
   "source": [
    "Lastly, we visualize the resulting trajectory. \n",
    "As we can see, we have constructed a system with stable limit cycle at ```x^2 + y^2 = 1```"
   ]
  },
  {
   "cell_type": "code",
   "execution_count": null,
   "metadata": {},
   "outputs": [],
   "source": [
    "plot_history(history, figsize=(8,8))"
   ]
  },
  {
   "cell_type": "markdown",
   "metadata": {},
   "source": [
    "If we choose an initial point that is too close to the origin (where there is a singularity in our potential field), we see that we do not converge to the limit cycle due to the exploding gradient and the numerical error introduced by our discrete approximation "
   ]
  },
  {
   "cell_type": "code",
   "execution_count": null,
   "metadata": {},
   "outputs": [],
   "source": [
    "history = simulate_trajectory(\n",
    "    d, jnp.array([0.1, 0.1]),\n",
    "    step_size = 0.1, num_iters = 100)"
   ]
  },
  {
   "cell_type": "code",
   "execution_count": null,
   "metadata": {},
   "outputs": [],
   "source": [
    "plot_history(history, figsize=(8,8))"
   ]
  },
  {
   "cell_type": "markdown",
   "metadata": {},
   "source": [
    "As a rough fix, we can deal with this issue by clipping the gradient steps by a multiple of the step size"
   ]
  },
  {
   "cell_type": "code",
   "execution_count": null,
   "metadata": {},
   "outputs": [],
   "source": [
    "def simulate_trajectory(\n",
    "    v: VectorField,\n",
    "    x0,  \n",
    "    step_size = 0.01, \n",
    "    num_iters = 1000,\n",
    "    grad_clip = None\n",
    "): \n",
    "    \"\"\"Simulate the trajectory obtained by gradient descent on a surface\"\"\"\n",
    "    grad = None\n",
    "    x = x0\n",
    "    xhist = np.zeros((num_iters, x0.shape[0]))\n",
    "    for i in range(num_iters):\n",
    "        xhist[i] = x\n",
    "        grad = d.get_gradient(x)\n",
    "        if grad_clip:\n",
    "            x = x - jnp.clip(step_size * grad, -grad_clip, grad_clip)\n",
    "        else:\n",
    "            x = x - step_size * grad\n",
    "    return xhist"
   ]
  },
  {
   "cell_type": "markdown",
   "metadata": {},
   "source": [
    "We can now re-calculate our trajectory using gradient clipping and simulate points much closer to the origin:"
   ]
  },
  {
   "cell_type": "code",
   "execution_count": null,
   "metadata": {},
   "outputs": [],
   "source": [
    "history = simulate_trajectory(\n",
    "    d, jnp.array([0.01, 0.01]),\n",
    "    step_size = 0.1, num_iters = 120, grad_clip = 0.1)"
   ]
  },
  {
   "cell_type": "code",
   "execution_count": null,
   "metadata": {},
   "outputs": [],
   "source": [
    "plot_history(history, figsize=(8,8))"
   ]
  },
  {
   "cell_type": "markdown",
   "metadata": {},
   "source": [
    "We define a utility function to visualize (clipped) potential fields for recreational purposes ;)"
   ]
  },
  {
   "cell_type": "code",
   "execution_count": null,
   "metadata": {},
   "outputs": [],
   "source": []
  },
  {
   "cell_type": "markdown",
   "metadata": {},
   "source": [
    "Plotting the positive quadrant of our linear combination of potential fields"
   ]
  },
  {
   "cell_type": "code",
   "execution_count": null,
   "metadata": {},
   "outputs": [],
   "source": [
    "plot_potential_field(s3, jnp.array([0.1, 1]), jnp.array([0.1, 1]))"
   ]
  },
  {
   "cell_type": "markdown",
   "metadata": {},
   "source": [
    "Plotting all quadrants of the same field"
   ]
  },
  {
   "cell_type": "code",
   "execution_count": null,
   "metadata": {},
   "outputs": [],
   "source": [
    "plot_potential_field(s3, jnp.array([-1, 1]), jnp.array([-1, 1]))"
   ]
  },
  {
   "cell_type": "markdown",
   "metadata": {},
   "source": [
    "Plotting all quadrants of the same field, this time with clipping"
   ]
  },
  {
   "cell_type": "code",
   "execution_count": null,
   "metadata": {},
   "outputs": [],
   "source": [
    "plot_potential_field(s3, jnp.array([-1, 1]), jnp.array([-1, 1]), max_clip = 2)"
   ]
  },
  {
   "cell_type": "code",
   "execution_count": null,
   "metadata": {},
   "outputs": [],
   "source": []
  }
 ],
 "metadata": {
  "interpreter": {
   "hash": "58794497aaf46abe5d1fab5cc23916a38f79a233f4b3f254f0d7e43193129b64"
  },
  "kernelspec": {
   "display_name": "Python 3 (ipykernel)",
   "language": "python",
   "name": "python3"
  },
  "language_info": {
   "codemirror_mode": {
    "name": "ipython",
    "version": 3
   },
   "file_extension": ".py",
   "mimetype": "text/x-python",
   "name": "python",
   "nbconvert_exporter": "python",
   "pygments_lexer": "ipython3",
   "version": "3.8.13"
  }
 },
 "nbformat": 4,
 "nbformat_minor": 2
}
