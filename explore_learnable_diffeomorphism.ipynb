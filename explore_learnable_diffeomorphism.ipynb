{
 "cells": [
  {
   "cell_type": "markdown",
   "metadata": {},
   "source": [
    "# Learnable Diffeomorphisms\n",
    "\n",
    "We study how to parametrize diffeomorphisms as neural-nets in such a way that they are learnable. \n",
    "\n",
    "We evaluate this by learning to reproduce the Van Der Pol oscillator as the result of a diffeomorphism from a simple baseline limit-cycle system. "
   ]
  },
  {
   "cell_type": "markdown",
   "metadata": {},
   "source": [
    "## 1 - Define Model Architecture"
   ]
  },
  {
   "cell_type": "markdown",
   "metadata": {},
   "source": [
    "### 1.1 - Construct Diffeomorphism\n",
    "\n",
    "We model the diffeomorphism using Invertible Neural Networks.\n",
    "\n",
    "These are constructed using FrEiA library: https://github.com/VLL-HD/FrEIA"
   ]
  },
  {
   "cell_type": "code",
   "execution_count": 52,
   "metadata": {},
   "outputs": [
    {
     "name": "stdout",
     "output_type": "stream",
     "text": [
      "Architecture\n",
      "SequenceINN(\n",
      "  (module_list): ModuleList(\n",
      "    (0): AllInOneBlock(\n",
      "      (softplus): Softplus(beta=0.5, threshold=20)\n",
      "      (subnet): Sequential(\n",
      "        (0): Linear(in_features=1, out_features=32, bias=True)\n",
      "        (1): ELU(alpha=1.0)\n",
      "        (2): Linear(in_features=32, out_features=2, bias=True)\n",
      "      )\n",
      "    )\n",
      "  )\n",
      ")\n",
      "\n",
      "Sanity-check invertibility\n",
      "    input: tensor([[0., 0.]])\n",
      "    output: tensor([[0.0057, 0.0032]])\n",
      "    recovered: tensor([[ 0.0000e+00, -4.5320e-10]])\n",
      "\n"
     ]
    }
   ],
   "source": [
    "import torch\n",
    "import torch.nn as nn\n",
    "\n",
    "import FrEIA.framework as Ff\n",
    "import FrEIA.modules as Fm\n",
    "\n",
    "def subnet_fc(c_in, c_out, hidden_dim=32):\n",
    "    return nn.Sequential(\n",
    "        nn.Linear(c_in, hidden_dim), \n",
    "        nn.ELU(),\n",
    "        nn.Linear(hidden_dim,  c_out)\n",
    "    )\n",
    "\n",
    "def build_invertible_nn(input_dim=2):\n",
    "    inn = Ff.SequenceINN(input_dim)\n",
    "    for _ in range(1):\n",
    "        inn.append(Fm.AllInOneBlock, subnet_constructor=subnet_fc, permute_soft=True)\n",
    "    return inn\n",
    "\n",
    "inn = build_invertible_nn()\n",
    "print(\"Architecture\")\n",
    "print(inn)\n",
    "with torch.no_grad():\n",
    "    x = torch.zeros(1,2)\n",
    "    z, _ = inn(x)\n",
    "    x_pred, _ = inn(z, rev=True)\n",
    "\n",
    "print()\n",
    "print(\"Sanity-check invertibility\")\n",
    "print(f\"\"\"\\\n",
    "    input: {x}\n",
    "    output: {z}\n",
    "    recovered: {x_pred}\n",
    "\"\"\")"
   ]
  },
  {
   "cell_type": "markdown",
   "metadata": {},
   "source": [
    "### 1.2 - Construct Baseline Dynamical System"
   ]
  },
  {
   "cell_type": "code",
   "execution_count": 53,
   "metadata": {},
   "outputs": [],
   "source": [
    "# Forward and backward polar coordinate transform\n",
    "\n",
    "import torch \n",
    "\n",
    "def cart_to_polar_torch(x):\n",
    "    x1, x2 = x[...,0], x[...,1]\n",
    "    r = torch.sqrt(x1 ** 2 + x2 ** 2)\n",
    "    theta = torch.arctan2(x2, x1)\n",
    "    return torch.stack([r, theta], dim=-1)\n",
    "\n",
    "def dpolar_to_dcart_torch(p, dp):\n",
    "    dr, dtheta = dp[...,0], dp[...,1]\n",
    "    r, theta = p[...,0], p[...,1]\n",
    "    dx = dr * torch.cos(theta) + r * (-torch.sin(theta)) * dtheta \n",
    "    dy = dr * torch.sin(theta) + r * ( torch.cos(theta)) * dtheta\n",
    "    return torch.stack([dx, dy], dim=-1)"
   ]
  },
  {
   "cell_type": "markdown",
   "metadata": {},
   "source": [
    "We model our base oscillator as a linear system on polar coordinates, given by: \n",
    "\n",
    "$$dr = - ar + b$$\n",
    "$$d\\theta = 1$$\n",
    "$$a,b > 0$$\n",
    "\n",
    "This can be viewed as a simple special case of the general transverse coordinate system, described in https://underactuated.mit.edu/limit_cycles.html#Manchester10a"
   ]
  },
  {
   "cell_type": "code",
   "execution_count": 54,
   "metadata": {},
   "outputs": [],
   "source": [
    "import torch.nn as nn \n",
    "import torch.nn.functional as F\n",
    "\n",
    "def pos_elu(x):\n",
    "    \"\"\" Transform x to a positive variable \"\"\"\n",
    "    return F.elu(x) + 1\n",
    "\n",
    "class LinearModel(nn.Module):\n",
    "    \"\"\"Simple linear model of dr, dtheta\"\"\"\n",
    "    def __init__(self):\n",
    "        super(LinearModel, self).__init__()\n",
    "        self.a = nn.Parameter(torch.tensor(0.0))\n",
    "        self.b = nn.Parameter(torch.tensor(0.0))\n",
    "\n",
    "    def forward(self, x):\n",
    "        \"\"\"p: a 2D point in polar coordinates. Can be batched\"\"\"\n",
    "        p = cart_to_polar_torch(x)\n",
    "        \n",
    "        a = pos_elu(self.a)\n",
    "        b = pos_elu(self.b)\n",
    "\n",
    "        r, theta = p[...,0], p[...,1]\n",
    "        dr = -a * r + b\n",
    "        dtheta = torch.ones_like(theta)\n",
    "        dp = torch.stack([dr, dtheta], dim=-1)\n",
    "\n",
    "        dx = dpolar_to_dcart_torch(p, dp) \n",
    "        return dx\n"
   ]
  },
  {
   "cell_type": "markdown",
   "metadata": {},
   "source": [
    "### 1.3 - Construct Model"
   ]
  },
  {
   "cell_type": "markdown",
   "metadata": {},
   "source": [
    "The full model is given by computing the push-forward of the base vector field through the diffeomorphism. "
   ]
  },
  {
   "cell_type": "code",
   "execution_count": 55,
   "metadata": {},
   "outputs": [
    {
     "name": "stdout",
     "output_type": "stream",
     "text": [
      "torch.Size([10, 2])\n"
     ]
    }
   ],
   "source": [
    "import numpy as np\n",
    "import functorch\n",
    "\n",
    "import torch\n",
    "import torch.nn as nn\n",
    "\n",
    "class MorphedVectorField(nn.Module):\n",
    "    \"\"\"Wrapper for applying a diffeomorphism to space to morph a vector field.\n",
    "\n",
    "    v: An underlying vector field which gets transformed\n",
    "    f: A diffeomorphism between manifolds, parametrized by an Invertible Neural Network\n",
    "    \"\"\"\n",
    "\n",
    "    def __init__(self, v: nn.Module, f: nn.Module):\n",
    "        super(MorphedVectorField, self).__init__()\n",
    "        self.v = v\n",
    "        self.f = f\n",
    "        self.device = torch.device(\"cuda\" if torch.cuda.is_available() else \"cpu\")\n",
    "\n",
    "        f_fn, f_params, f_buffers = functorch.make_functional_with_buffers(f.to(self.device))\n",
    "\n",
    "        def f_forward_fn(x):\n",
    "            \"\"\" x is assumed not to have the batch dimension \"\"\" \n",
    "            # INN needs the batch dimension or it complains\n",
    "            x = x.unsqueeze(0)\n",
    "            # INN returns log jacobian det in second spot, which we discard\n",
    "            x, _ = f_fn(f_params, f_buffers, x)\n",
    "            # Remove the batch dimension we added artificially\n",
    "            x = x.squeeze(0)\n",
    "            return x\n",
    "\n",
    "        self.f_fn = f_forward_fn\n",
    "        self.grad_f_fn = functorch.vmap(functorch.jacfwd(f_forward_fn))\n",
    "\n",
    "    def forward(self, x):\n",
    "        \"\"\" x must be of shape (B, D)\n",
    "        \n",
    "        B: batch dim\n",
    "        D: state dim\n",
    "        \"\"\"\n",
    "        z, _ = self.f(x, rev=True)\n",
    "        vz =  self.v(z)\n",
    "        # Df is the batched Jacobian\n",
    "        Df = self.grad_f_fn(z)\n",
    "        out = functorch.vmap(lambda df, vz: df @ vz)(Df, vz)\n",
    "        return out\n",
    "\n",
    "class TimeWrapper(nn.Module):\n",
    "    \"\"\" Wrap a non-time-varying vector field to accept (redundant) time arg\"\"\"\n",
    "    def __init__(self, v: nn.Module):\n",
    "        super(TimeWrapper, self).__init__()\n",
    "        self.v = v\n",
    "\n",
    "    def forward(self, t, x):\n",
    "        del t \n",
    "        return self.v(x)\n",
    "\n",
    "def build_net():\n",
    "    v = LinearModel()\n",
    "    f = build_invertible_nn()\n",
    "    net = MorphedVectorField(v, f)\n",
    "    return net\n",
    "\n",
    "# Sanity check net \n",
    "net = build_net()\n",
    "sample_inp = torch.zeros(10, 2).to(net.device)\n",
    "sample_oup = net(sample_inp)\n",
    "print(sample_oup.shape)"
   ]
  },
  {
   "cell_type": "code",
   "execution_count": 56,
   "metadata": {},
   "outputs": [
    {
     "name": "stdout",
     "output_type": "stream",
     "text": [
      "torch.Size([16, 4, 2])\n"
     ]
    }
   ],
   "source": [
    "# Sanity check using odeint on model\n",
    "from torchdiffeq import odeint\n",
    "\n",
    "sample_x0 = torch.zeros(4, 2)\n",
    "sample_t = torch.arange(16) * 0.02\n",
    "sample_x0 = sample_x0.to(net.device)\n",
    "sample_t = sample_t.to(net.device)\n",
    "sample_x_pred = odeint(TimeWrapper(net), sample_x0, sample_t) \n",
    "print(sample_x_pred.shape)"
   ]
  },
  {
   "cell_type": "code",
   "execution_count": 77,
   "metadata": {},
   "outputs": [
    {
     "data": {
      "image/png": "[encoded data removed]",
      "text/plain": [
       "<Figure size 360x360 with 1 Axes>"
      ]
     },
     "metadata": {
      "needs_background": "light"
     },
     "output_type": "display_data"
    }
   ],
   "source": [
    "# Visualize vector field\n",
    "from torch_vector_field import vector_field, utilities, plotting\n",
    "\n",
    "class TorchToNumpyVectorFieldWrapper(vector_field.VectorField):\n",
    "    def __init__(self, f: nn.Module):\n",
    "        self.f = f \n",
    "    \n",
    "    def get_gradient(self, x):\n",
    "        x_t = torch.from_numpy(x.astype(np.float32))\n",
    "        if hasattr(self.f, \"device\"): \n",
    "            x_t = x_t.to(self.f.device)\n",
    "        with torch.no_grad():\n",
    "            p_t = self.f(x_t)\n",
    "        return p_t.detach().cpu().numpy().astype(np.float64)\n",
    "\n",
    "net = build_net()\n",
    "net_wrapped = TorchToNumpyVectorFieldWrapper(net)\n",
    "h = utilities.simulate_trajectory(\n",
    "    net_wrapped, \n",
    "    np.array([0.5, 0.5]),\n",
    "    step_size=0.1, \n",
    "    num_iters = 100,\n",
    "    grad_clip=1,\n",
    "    ascending=True\n",
    ")\n",
    "plotting.plot_histories([h], figsize=(5,5))"
   ]
  },
  {
   "cell_type": "markdown",
   "metadata": {},
   "source": [
    "## 2 - Define Training Procedure"
   ]
  },
  {
   "cell_type": "markdown",
   "metadata": {},
   "source": [
    "### 2.1 - Construct Training Dataset\n",
    "\n",
    "Construct trajectories over time"
   ]
  },
  {
   "cell_type": "code",
   "execution_count": 58,
   "metadata": {},
   "outputs": [
    {
     "name": "stdout",
     "output_type": "stream",
     "text": [
      "torch.Size([2]) torch.Size([1024]) torch.Size([1024, 2])\n"
     ]
    }
   ],
   "source": [
    "device = torch.device(\"cuda\" if torch.cuda.is_available() else \"cpu\")\n",
    "use_adjoint = False \n",
    "\n",
    "if use_adjoint: \n",
    "    from torchdiffeq import odeint_adjoint as odeint\n",
    "else: \n",
    "    from torchdiffeq import odeint\n",
    "\n",
    "class VanDerPol(nn.Module):\n",
    "    \"\"\"Return Van Der Pol vector field\"\"\"\n",
    "    def __init__(self, mu=3):\n",
    "        super(VanDerPol, self).__init__()\n",
    "        self.mu = mu\n",
    "\n",
    "    def forward(self, t, x):\n",
    "        # VDP system dynamics are not time-varying\n",
    "        del t\n",
    "\n",
    "        x1, x2 = x[...,0], x[...,1]\n",
    "        dx1 = x2\n",
    "        dx2 = self.mu * (1 - x1 ** 2) * x2 - x1\n",
    "        dx = torch.stack([dx1, dx2], axis=-1)\n",
    "        return dx\n",
    "\n",
    "def construct_dataset(data_size = 1024, device = device):\n",
    "    x0 = torch.tensor(\n",
    "        [2.0, 0.]\n",
    "    ).to(device)\n",
    "    t = torch.linspace(0., 25., data_size).to(device)\n",
    "\n",
    "    with torch.no_grad():\n",
    "        x = odeint(VanDerPol(), x0, t, method='dopri5')\n",
    "\n",
    "    return x0, t, x\n",
    "\n",
    "all_x0, all_t, all_x = construct_dataset()\n",
    "# Sanity check dataset\n",
    "print(all_x0.shape, all_t.shape, all_x.shape)"
   ]
  },
  {
   "cell_type": "markdown",
   "metadata": {},
   "source": [
    "Sanity check dataset"
   ]
  },
  {
   "cell_type": "code",
   "execution_count": 59,
   "metadata": {},
   "outputs": [
    {
     "name": "stdout",
     "output_type": "stream",
     "text": [
      "torch.Size([128, 2]) torch.Size([16]) torch.Size([16, 128, 2])\n"
     ]
    }
   ],
   "source": [
    "def get_batch(x0, t, x, data_size = 1024, batch_size = 128, batch_time = 16, device=device):\n",
    "    s = torch.from_numpy(np.random.choice(np.arange(data_size - batch_time, dtype=np.int64), batch_size, replace=False))\n",
    "    batch_x0 = x[s]  # (M, D)\n",
    "    batch_t = t[:batch_time]  # (T)\n",
    "    batch_x = torch.stack([x[s + i] for i in range(batch_time)], dim=0)  # (T, M, D)\n",
    "    return batch_x0.to(device), batch_t.to(device), batch_x.to(device)\n",
    "\n",
    "# Sanity check batch function\n",
    "batch_x0, batch_t, batch_x = get_batch(all_x0, all_t, all_x)\n",
    "print(batch_x0.shape, batch_t.shape, batch_x.shape)\n"
   ]
  },
  {
   "cell_type": "markdown",
   "metadata": {},
   "source": [
    "### 2.2 - Define Training Loop\n",
    "\n",
    "Adapted from https://github.com/rtqichen/torchdiffeq/blob/master/examples/ode_demo.py"
   ]
  },
  {
   "cell_type": "code",
   "execution_count": 60,
   "metadata": {},
   "outputs": [],
   "source": [
    "import time\n",
    "import torch.optim as optim\n",
    "\n",
    "class RunningAverageMeter(object):\n",
    "    \"\"\"Computes and stores the average and current value\"\"\"\n",
    "\n",
    "    def __init__(self, momentum=0.99):\n",
    "        self.momentum = momentum\n",
    "        self.reset()\n",
    "\n",
    "    def reset(self):\n",
    "        self.val = None\n",
    "        self.avg = 0\n",
    "\n",
    "    def update(self, val):\n",
    "        if self.val is None:\n",
    "            self.avg = val\n",
    "        else:\n",
    "            self.avg = self.avg * self.momentum + val * (1 - self.momentum)\n",
    "        self.val = val\n",
    "\n",
    "def eval_model(\n",
    "    model,\n",
    "    x0, t, x\n",
    "):\n",
    "    with torch.no_grad():\n",
    "        pred_x = odeint(model, x0, t)\n",
    "        loss = torch.mean(torch.abs(pred_x - x))\n",
    "    return loss\n",
    "\n",
    "def train_model(model,\n",
    "    batch_fn,\n",
    "    num_iters = 2000, \n",
    "    test_freq = -1,\n",
    "    print_freq = 20,\n",
    "):  \n",
    "    optimizer = optim.SGD(model.parameters(), lr=1e-3)\n",
    "    start = time.time()\n",
    "    time_meter = RunningAverageMeter(0.97)\n",
    "    loss_meter = RunningAverageMeter(0.97)\n",
    "    end = start\n",
    "\n",
    "    for itr in range(1, num_iters + 1):\n",
    "        optimizer.zero_grad()\n",
    "        x0, t, x = batch_fn()\n",
    "        pred_x = odeint(model, x0, t).to(device)\n",
    "        loss = torch.mean(torch.abs(pred_x - x))\n",
    "        loss.backward()\n",
    "        optimizer.step()\n",
    "\n",
    "        time_meter.update(time.time() - end)\n",
    "        loss_meter.update(loss.item())\n",
    "\n",
    "        if itr % print_freq == 0:\n",
    "            print('Iter {:04d} | Avg Loss {:.6f} | Avg Iter Time {:.2f}'.format(itr, loss_meter.val, time_meter.val))\n",
    "\n",
    "        if test_freq > 0 and itr % test_freq == 0:\n",
    "            loss = eval_model(model, all_x0, all_t, all_x)\n",
    "            curr = time.time()\n",
    "            time_elapsed = curr - start\n",
    "            print('Iter {:04d} | Total Loss {:.6f} | Time Elapsed {:.2f}'.format(itr, loss.item(), time_elapsed))\n",
    "\n",
    "        end = time.time()"
   ]
  },
  {
   "cell_type": "code",
   "execution_count": 61,
   "metadata": {},
   "outputs": [
    {
     "name": "stdout",
     "output_type": "stream",
     "text": [
      "Iter 0001 | Avg Loss 0.339669 | Avg Iter Time 0.30\n",
      "Iter 0002 | Avg Loss 0.312665 | Avg Iter Time 0.29\n"
     ]
    }
   ],
   "source": [
    "# Sanity check training loop on simple baseline model\n",
    "baseline_model = nn.Sequential(\n",
    "    nn.Linear(2, 8), \n",
    "    nn.ELU(),\n",
    "    nn.Linear(8, 2)\n",
    ").to(device)\n",
    "baseline_model = TimeWrapper(baseline_model)\n",
    "batch_fn = lambda: get_batch(all_x0, all_t, all_x)\n",
    "train_model(baseline_model, batch_fn, num_iters=2, print_freq=1)"
   ]
  },
  {
   "cell_type": "code",
   "execution_count": 62,
   "metadata": {},
   "outputs": [
    {
     "name": "stdout",
     "output_type": "stream",
     "text": [
      "Iter 0001 | Avg Loss 0.482249 | Avg Iter Time 3.35\n"
     ]
    }
   ],
   "source": [
    "# Sanity check training loop on full model for 1 iter\n",
    "model = TimeWrapper(net)\n",
    "\n",
    "batch_fn = lambda: get_batch(all_x0, all_t, all_x)\n",
    "train_model(model, batch_fn, num_iters = 1, print_freq = 1)"
   ]
  },
  {
   "cell_type": "markdown",
   "metadata": {},
   "source": [
    "## 3 - Experiments"
   ]
  },
  {
   "cell_type": "code",
   "execution_count": 64,
   "metadata": {},
   "outputs": [
    {
     "name": "stdout",
     "output_type": "stream",
     "text": [
      "Iter 0010 | Avg Loss 0.247961 | Avg Iter Time 0.25\n",
      "Iter 0020 | Avg Loss 0.195889 | Avg Iter Time 0.25\n",
      "Iter 0030 | Avg Loss 0.283478 | Avg Iter Time 0.25\n",
      "Iter 0040 | Avg Loss 0.288999 | Avg Iter Time 0.27\n",
      "Iter 0050 | Avg Loss 0.222740 | Avg Iter Time 0.29\n",
      "Iter 0060 | Avg Loss 0.218783 | Avg Iter Time 0.26\n",
      "Iter 0070 | Avg Loss 0.304464 | Avg Iter Time 0.29\n",
      "Iter 0080 | Avg Loss 0.303862 | Avg Iter Time 0.29\n",
      "Iter 0090 | Avg Loss 0.265350 | Avg Iter Time 0.29\n",
      "Iter 0100 | Avg Loss 0.278629 | Avg Iter Time 0.31\n"
     ]
    }
   ],
   "source": [
    "# Sanity check training loop on simple baseline model\n",
    "baseline_model = nn.Sequential(\n",
    "    nn.Linear(2, 8), \n",
    "    nn.ELU(),\n",
    "    nn.Linear(8, 2)\n",
    ").to(device)\n",
    "baseline_model = TimeWrapper(baseline_model)\n",
    "batch_fn = lambda: get_batch(all_x0, all_t, all_x)\n",
    "train_model(baseline_model, batch_fn, num_iters=100, print_freq = 10)\n",
    "eval_model(baseline_model, all_x0, all_t, all_x)"
   ]
  },
  {
   "cell_type": "code",
   "execution_count": 73,
   "metadata": {},
   "outputs": [
    {
     "data": {
      "image/png": "[encoded data removed]",
      "text/plain": [
       "<Figure size 360x360 with 1 Axes>"
      ]
     },
     "metadata": {
      "needs_background": "light"
     },
     "output_type": "display_data"
    }
   ],
   "source": [
    "baseline_v = baseline_model.v \n",
    "baseline_v.to('cpu')\n",
    "baseline_model_wrapped = TorchToNumpyVectorFieldWrapper(baseline_v)\n",
    "h = utilities.simulate_trajectory(\n",
    "    baseline_model_wrapped, \n",
    "    np.array([0.5, 0.5]),\n",
    "    step_size=0.1, \n",
    "    num_iters = 100,\n",
    "    grad_clip=1,\n",
    "    ascending=True\n",
    ")\n",
    "plotting.plot_histories([h], figsize=(5,5))"
   ]
  },
  {
   "cell_type": "code",
   "execution_count": 71,
   "metadata": {},
   "outputs": [
    {
     "name": "stdout",
     "output_type": "stream",
     "text": [
      "Iter 0010 | Avg Loss 0.398780 | Avg Iter Time 3.00\n",
      "Iter 0020 | Avg Loss 0.362709 | Avg Iter Time 2.91\n",
      "Iter 0030 | Avg Loss 0.444711 | Avg Iter Time 3.05\n",
      "Iter 0040 | Avg Loss 0.389900 | Avg Iter Time 2.87\n",
      "Iter 0050 | Avg Loss 0.385500 | Avg Iter Time 2.66\n",
      "Iter 0060 | Avg Loss 0.393663 | Avg Iter Time 2.35\n",
      "Iter 0070 | Avg Loss 0.458770 | Avg Iter Time 2.51\n",
      "Iter 0080 | Avg Loss 0.437301 | Avg Iter Time 2.62\n",
      "Iter 0090 | Avg Loss 0.435102 | Avg Iter Time 2.39\n",
      "Iter 0100 | Avg Loss 0.470761 | Avg Iter Time 3.20\n"
     ]
    }
   ],
   "source": [
    "net = build_net()\n",
    "model = TimeWrapper(net)\n",
    "\n",
    "batch_fn = lambda: get_batch(all_x0, all_t, all_x)\n",
    "train_model(model, batch_fn, num_iters = 100, print_freq = 10)"
   ]
  },
  {
   "cell_type": "code",
   "execution_count": 86,
   "metadata": {},
   "outputs": [
    {
     "ename": "RuntimeError",
     "evalue": "Expected all tensors to be on the same device, but found at least two devices, cuda:0 and cpu! (when checking argument for argument mat in method wrapper_addmv_)",
     "output_type": "error",
     "traceback": [
      "\u001b[0;31m---------------------------------------------------------------------------\u001b[0m",
      "\u001b[0;31mRuntimeError\u001b[0m                              Traceback (most recent call last)",
      "\u001b[1;32m/home/dtch1997/github/dtch1997/learning_limit_cycles/explore_learnable_diffeomorphism.ipynb Cell 27\u001b[0m in \u001b[0;36m<cell line: 15>\u001b[0;34m()\u001b[0m\n\u001b[1;32m     <a href='vscode-notebook-cell://wsl%2Bubuntu-20.04/home/dtch1997/github/dtch1997/learning_limit_cycles/explore_learnable_diffeomorphism.ipynb#ch0000066vscode-remote?line=11'>12</a>\u001b[0m         \u001b[39mreturn\u001b[39;00m p_t\u001b[39m.\u001b[39mdetach()\u001b[39m.\u001b[39mcpu()\u001b[39m.\u001b[39mnumpy()\u001b[39m.\u001b[39mastype(np\u001b[39m.\u001b[39mfloat64)\n\u001b[1;32m     <a href='vscode-notebook-cell://wsl%2Bubuntu-20.04/home/dtch1997/github/dtch1997/learning_limit_cycles/explore_learnable_diffeomorphism.ipynb#ch0000066vscode-remote?line=13'>14</a>\u001b[0m model_wrapped \u001b[39m=\u001b[39m TorchToNumpyVectorFieldWrapper(model_v)\n\u001b[0;32m---> <a href='vscode-notebook-cell://wsl%2Bubuntu-20.04/home/dtch1997/github/dtch1997/learning_limit_cycles/explore_learnable_diffeomorphism.ipynb#ch0000066vscode-remote?line=14'>15</a>\u001b[0m h \u001b[39m=\u001b[39m utilities\u001b[39m.\u001b[39;49msimulate_trajectory(\n\u001b[1;32m     <a href='vscode-notebook-cell://wsl%2Bubuntu-20.04/home/dtch1997/github/dtch1997/learning_limit_cycles/explore_learnable_diffeomorphism.ipynb#ch0000066vscode-remote?line=15'>16</a>\u001b[0m     model_wrapped, \n\u001b[1;32m     <a href='vscode-notebook-cell://wsl%2Bubuntu-20.04/home/dtch1997/github/dtch1997/learning_limit_cycles/explore_learnable_diffeomorphism.ipynb#ch0000066vscode-remote?line=16'>17</a>\u001b[0m     np\u001b[39m.\u001b[39;49marray([\u001b[39m0.5\u001b[39;49m, \u001b[39m0.5\u001b[39;49m]),\n\u001b[1;32m     <a href='vscode-notebook-cell://wsl%2Bubuntu-20.04/home/dtch1997/github/dtch1997/learning_limit_cycles/explore_learnable_diffeomorphism.ipynb#ch0000066vscode-remote?line=17'>18</a>\u001b[0m     step_size\u001b[39m=\u001b[39;49m\u001b[39m0.1\u001b[39;49m, \n\u001b[1;32m     <a href='vscode-notebook-cell://wsl%2Bubuntu-20.04/home/dtch1997/github/dtch1997/learning_limit_cycles/explore_learnable_diffeomorphism.ipynb#ch0000066vscode-remote?line=18'>19</a>\u001b[0m     num_iters \u001b[39m=\u001b[39;49m \u001b[39m100\u001b[39;49m,\n\u001b[1;32m     <a href='vscode-notebook-cell://wsl%2Bubuntu-20.04/home/dtch1997/github/dtch1997/learning_limit_cycles/explore_learnable_diffeomorphism.ipynb#ch0000066vscode-remote?line=19'>20</a>\u001b[0m     grad_clip\u001b[39m=\u001b[39;49m\u001b[39m1\u001b[39;49m,\n\u001b[1;32m     <a href='vscode-notebook-cell://wsl%2Bubuntu-20.04/home/dtch1997/github/dtch1997/learning_limit_cycles/explore_learnable_diffeomorphism.ipynb#ch0000066vscode-remote?line=20'>21</a>\u001b[0m     ascending\u001b[39m=\u001b[39;49m\u001b[39mTrue\u001b[39;49;00m\n\u001b[1;32m     <a href='vscode-notebook-cell://wsl%2Bubuntu-20.04/home/dtch1997/github/dtch1997/learning_limit_cycles/explore_learnable_diffeomorphism.ipynb#ch0000066vscode-remote?line=21'>22</a>\u001b[0m )\n\u001b[1;32m     <a href='vscode-notebook-cell://wsl%2Bubuntu-20.04/home/dtch1997/github/dtch1997/learning_limit_cycles/explore_learnable_diffeomorphism.ipynb#ch0000066vscode-remote?line=22'>23</a>\u001b[0m plotting\u001b[39m.\u001b[39mplot_histories([h], figsize\u001b[39m=\u001b[39m(\u001b[39m5\u001b[39m,\u001b[39m5\u001b[39m))\n",
      "File \u001b[0;32m~/github/dtch1997/learning_limit_cycles/torch_vector_field/utilities.py:24\u001b[0m, in \u001b[0;36msimulate_trajectory\u001b[0;34m(v, x0, step_size, num_iters, grad_clip, ascending)\u001b[0m\n\u001b[1;32m     22\u001b[0m \u001b[39mfor\u001b[39;00m i \u001b[39min\u001b[39;00m \u001b[39mrange\u001b[39m(num_iters):\n\u001b[1;32m     23\u001b[0m     xhist[i] \u001b[39m=\u001b[39m x\n\u001b[0;32m---> 24\u001b[0m     grad \u001b[39m=\u001b[39m v\u001b[39m.\u001b[39;49mget_gradient(x)\n\u001b[1;32m     25\u001b[0m     \u001b[39mif\u001b[39;00m grad_clip:\n\u001b[1;32m     26\u001b[0m         x \u001b[39m=\u001b[39m x \u001b[39m+\u001b[39m sign \u001b[39m*\u001b[39m np\u001b[39m.\u001b[39mclip(step_size \u001b[39m*\u001b[39m grad, \u001b[39m-\u001b[39mgrad_clip, grad_clip)\n",
      "\u001b[1;32m/home/dtch1997/github/dtch1997/learning_limit_cycles/explore_learnable_diffeomorphism.ipynb Cell 27\u001b[0m in \u001b[0;36mTorchToNumpyVectorFieldWrapper.get_gradient\u001b[0;34m(self, x)\u001b[0m\n\u001b[1;32m      <a href='vscode-notebook-cell://wsl%2Bubuntu-20.04/home/dtch1997/github/dtch1997/learning_limit_cycles/explore_learnable_diffeomorphism.ipynb#ch0000066vscode-remote?line=8'>9</a>\u001b[0m x_t \u001b[39m=\u001b[39m x_t\u001b[39m.\u001b[39mto(\u001b[39mself\u001b[39m\u001b[39m.\u001b[39mf\u001b[39m.\u001b[39mdevice)\n\u001b[1;32m     <a href='vscode-notebook-cell://wsl%2Bubuntu-20.04/home/dtch1997/github/dtch1997/learning_limit_cycles/explore_learnable_diffeomorphism.ipynb#ch0000066vscode-remote?line=9'>10</a>\u001b[0m \u001b[39mwith\u001b[39;00m torch\u001b[39m.\u001b[39mno_grad():\n\u001b[0;32m---> <a href='vscode-notebook-cell://wsl%2Bubuntu-20.04/home/dtch1997/github/dtch1997/learning_limit_cycles/explore_learnable_diffeomorphism.ipynb#ch0000066vscode-remote?line=10'>11</a>\u001b[0m     p_t \u001b[39m=\u001b[39m \u001b[39mself\u001b[39;49m\u001b[39m.\u001b[39;49mf(x_t)\n\u001b[1;32m     <a href='vscode-notebook-cell://wsl%2Bubuntu-20.04/home/dtch1997/github/dtch1997/learning_limit_cycles/explore_learnable_diffeomorphism.ipynb#ch0000066vscode-remote?line=11'>12</a>\u001b[0m \u001b[39mreturn\u001b[39;00m p_t\u001b[39m.\u001b[39mdetach()\u001b[39m.\u001b[39mcpu()\u001b[39m.\u001b[39mnumpy()\u001b[39m.\u001b[39mastype(np\u001b[39m.\u001b[39mfloat64)\n",
      "File \u001b[0;32m~/.local/lib/python3.9/site-packages/torch/nn/modules/module.py:1130\u001b[0m, in \u001b[0;36mModule._call_impl\u001b[0;34m(self, *input, **kwargs)\u001b[0m\n\u001b[1;32m   1126\u001b[0m \u001b[39m# If we don't have any hooks, we want to skip the rest of the logic in\u001b[39;00m\n\u001b[1;32m   1127\u001b[0m \u001b[39m# this function, and just call forward.\u001b[39;00m\n\u001b[1;32m   1128\u001b[0m \u001b[39mif\u001b[39;00m \u001b[39mnot\u001b[39;00m (\u001b[39mself\u001b[39m\u001b[39m.\u001b[39m_backward_hooks \u001b[39mor\u001b[39;00m \u001b[39mself\u001b[39m\u001b[39m.\u001b[39m_forward_hooks \u001b[39mor\u001b[39;00m \u001b[39mself\u001b[39m\u001b[39m.\u001b[39m_forward_pre_hooks \u001b[39mor\u001b[39;00m _global_backward_hooks\n\u001b[1;32m   1129\u001b[0m         \u001b[39mor\u001b[39;00m _global_forward_hooks \u001b[39mor\u001b[39;00m _global_forward_pre_hooks):\n\u001b[0;32m-> 1130\u001b[0m     \u001b[39mreturn\u001b[39;00m forward_call(\u001b[39m*\u001b[39;49m\u001b[39minput\u001b[39;49m, \u001b[39m*\u001b[39;49m\u001b[39m*\u001b[39;49mkwargs)\n\u001b[1;32m   1131\u001b[0m \u001b[39m# Do not call functions when jit is used\u001b[39;00m\n\u001b[1;32m   1132\u001b[0m full_backward_hooks, non_full_backward_hooks \u001b[39m=\u001b[39m [], []\n",
      "\u001b[1;32m/home/dtch1997/github/dtch1997/learning_limit_cycles/explore_learnable_diffeomorphism.ipynb Cell 27\u001b[0m in \u001b[0;36mMorphedVectorField.forward\u001b[0;34m(self, x)\u001b[0m\n\u001b[1;32m     <a href='vscode-notebook-cell://wsl%2Bubuntu-20.04/home/dtch1997/github/dtch1997/learning_limit_cycles/explore_learnable_diffeomorphism.ipynb#ch0000066vscode-remote?line=34'>35</a>\u001b[0m \u001b[39mdef\u001b[39;00m \u001b[39mforward\u001b[39m(\u001b[39mself\u001b[39m, x):\n\u001b[1;32m     <a href='vscode-notebook-cell://wsl%2Bubuntu-20.04/home/dtch1997/github/dtch1997/learning_limit_cycles/explore_learnable_diffeomorphism.ipynb#ch0000066vscode-remote?line=35'>36</a>\u001b[0m     \u001b[39m\"\"\" x must be of shape (B, D)\u001b[39;00m\n\u001b[1;32m     <a href='vscode-notebook-cell://wsl%2Bubuntu-20.04/home/dtch1997/github/dtch1997/learning_limit_cycles/explore_learnable_diffeomorphism.ipynb#ch0000066vscode-remote?line=36'>37</a>\u001b[0m \u001b[39m    \u001b[39;00m\n\u001b[1;32m     <a href='vscode-notebook-cell://wsl%2Bubuntu-20.04/home/dtch1997/github/dtch1997/learning_limit_cycles/explore_learnable_diffeomorphism.ipynb#ch0000066vscode-remote?line=37'>38</a>\u001b[0m \u001b[39m    B: batch dim\u001b[39;00m\n\u001b[1;32m     <a href='vscode-notebook-cell://wsl%2Bubuntu-20.04/home/dtch1997/github/dtch1997/learning_limit_cycles/explore_learnable_diffeomorphism.ipynb#ch0000066vscode-remote?line=38'>39</a>\u001b[0m \u001b[39m    D: state dim\u001b[39;00m\n\u001b[1;32m     <a href='vscode-notebook-cell://wsl%2Bubuntu-20.04/home/dtch1997/github/dtch1997/learning_limit_cycles/explore_learnable_diffeomorphism.ipynb#ch0000066vscode-remote?line=39'>40</a>\u001b[0m \u001b[39m    \"\"\"\u001b[39;00m\n\u001b[0;32m---> <a href='vscode-notebook-cell://wsl%2Bubuntu-20.04/home/dtch1997/github/dtch1997/learning_limit_cycles/explore_learnable_diffeomorphism.ipynb#ch0000066vscode-remote?line=40'>41</a>\u001b[0m     z, _ \u001b[39m=\u001b[39m \u001b[39mself\u001b[39;49m\u001b[39m.\u001b[39;49mf(x, rev\u001b[39m=\u001b[39;49m\u001b[39mTrue\u001b[39;49;00m)\n\u001b[1;32m     <a href='vscode-notebook-cell://wsl%2Bubuntu-20.04/home/dtch1997/github/dtch1997/learning_limit_cycles/explore_learnable_diffeomorphism.ipynb#ch0000066vscode-remote?line=41'>42</a>\u001b[0m     vz \u001b[39m=\u001b[39m  \u001b[39mself\u001b[39m\u001b[39m.\u001b[39mv(z)\n\u001b[1;32m     <a href='vscode-notebook-cell://wsl%2Bubuntu-20.04/home/dtch1997/github/dtch1997/learning_limit_cycles/explore_learnable_diffeomorphism.ipynb#ch0000066vscode-remote?line=42'>43</a>\u001b[0m     \u001b[39m# Df is the batched Jacobian\u001b[39;00m\n",
      "File \u001b[0;32m~/.local/lib/python3.9/site-packages/torch/nn/modules/module.py:1130\u001b[0m, in \u001b[0;36mModule._call_impl\u001b[0;34m(self, *input, **kwargs)\u001b[0m\n\u001b[1;32m   1126\u001b[0m \u001b[39m# If we don't have any hooks, we want to skip the rest of the logic in\u001b[39;00m\n\u001b[1;32m   1127\u001b[0m \u001b[39m# this function, and just call forward.\u001b[39;00m\n\u001b[1;32m   1128\u001b[0m \u001b[39mif\u001b[39;00m \u001b[39mnot\u001b[39;00m (\u001b[39mself\u001b[39m\u001b[39m.\u001b[39m_backward_hooks \u001b[39mor\u001b[39;00m \u001b[39mself\u001b[39m\u001b[39m.\u001b[39m_forward_hooks \u001b[39mor\u001b[39;00m \u001b[39mself\u001b[39m\u001b[39m.\u001b[39m_forward_pre_hooks \u001b[39mor\u001b[39;00m _global_backward_hooks\n\u001b[1;32m   1129\u001b[0m         \u001b[39mor\u001b[39;00m _global_forward_hooks \u001b[39mor\u001b[39;00m _global_forward_pre_hooks):\n\u001b[0;32m-> 1130\u001b[0m     \u001b[39mreturn\u001b[39;00m forward_call(\u001b[39m*\u001b[39;49m\u001b[39minput\u001b[39;49m, \u001b[39m*\u001b[39;49m\u001b[39m*\u001b[39;49mkwargs)\n\u001b[1;32m   1131\u001b[0m \u001b[39m# Do not call functions when jit is used\u001b[39;00m\n\u001b[1;32m   1132\u001b[0m full_backward_hooks, non_full_backward_hooks \u001b[39m=\u001b[39m [], []\n",
      "File \u001b[0;32m~/anaconda3/envs/learning_limit_cycles/lib/python3.9/site-packages/FrEIA/framework/sequence_inn.py:104\u001b[0m, in \u001b[0;36mSequenceINN.forward\u001b[0;34m(self, x_or_z, c, rev, jac)\u001b[0m\n\u001b[1;32m    102\u001b[0m \u001b[39mfor\u001b[39;00m i \u001b[39min\u001b[39;00m iterator:\n\u001b[1;32m    103\u001b[0m     \u001b[39mif\u001b[39;00m \u001b[39mself\u001b[39m\u001b[39m.\u001b[39mconditions[i] \u001b[39mis\u001b[39;00m \u001b[39mNone\u001b[39;00m:\n\u001b[0;32m--> 104\u001b[0m         x_or_z, j \u001b[39m=\u001b[39m \u001b[39mself\u001b[39;49m\u001b[39m.\u001b[39;49mmodule_list[i](x_or_z, jac\u001b[39m=\u001b[39;49mjac, rev\u001b[39m=\u001b[39;49mrev)\n\u001b[1;32m    105\u001b[0m     \u001b[39melse\u001b[39;00m:\n\u001b[1;32m    106\u001b[0m         x_or_z, j \u001b[39m=\u001b[39m \u001b[39mself\u001b[39m\u001b[39m.\u001b[39mmodule_list[i](x_or_z, c\u001b[39m=\u001b[39m[c[\u001b[39mself\u001b[39m\u001b[39m.\u001b[39mconditions[i]]],\n\u001b[1;32m    107\u001b[0m                                         jac\u001b[39m=\u001b[39mjac, rev\u001b[39m=\u001b[39mrev)\n",
      "File \u001b[0;32m~/.local/lib/python3.9/site-packages/torch/nn/modules/module.py:1130\u001b[0m, in \u001b[0;36mModule._call_impl\u001b[0;34m(self, *input, **kwargs)\u001b[0m\n\u001b[1;32m   1126\u001b[0m \u001b[39m# If we don't have any hooks, we want to skip the rest of the logic in\u001b[39;00m\n\u001b[1;32m   1127\u001b[0m \u001b[39m# this function, and just call forward.\u001b[39;00m\n\u001b[1;32m   1128\u001b[0m \u001b[39mif\u001b[39;00m \u001b[39mnot\u001b[39;00m (\u001b[39mself\u001b[39m\u001b[39m.\u001b[39m_backward_hooks \u001b[39mor\u001b[39;00m \u001b[39mself\u001b[39m\u001b[39m.\u001b[39m_forward_hooks \u001b[39mor\u001b[39;00m \u001b[39mself\u001b[39m\u001b[39m.\u001b[39m_forward_pre_hooks \u001b[39mor\u001b[39;00m _global_backward_hooks\n\u001b[1;32m   1129\u001b[0m         \u001b[39mor\u001b[39;00m _global_forward_hooks \u001b[39mor\u001b[39;00m _global_forward_pre_hooks):\n\u001b[0;32m-> 1130\u001b[0m     \u001b[39mreturn\u001b[39;00m forward_call(\u001b[39m*\u001b[39;49m\u001b[39minput\u001b[39;49m, \u001b[39m*\u001b[39;49m\u001b[39m*\u001b[39;49mkwargs)\n\u001b[1;32m   1131\u001b[0m \u001b[39m# Do not call functions when jit is used\u001b[39;00m\n\u001b[1;32m   1132\u001b[0m full_backward_hooks, non_full_backward_hooks \u001b[39m=\u001b[39m [], []\n",
      "File \u001b[0;32m~/anaconda3/envs/learning_limit_cycles/lib/python3.9/site-packages/FrEIA/modules/all_in_one_block.py:235\u001b[0m, in \u001b[0;36mAllInOneBlock.forward\u001b[0;34m(self, x, c, rev, jac)\u001b[0m\n\u001b[1;32m    232\u001b[0m         \u001b[39mself\u001b[39m\u001b[39m.\u001b[39mw_perm_inv \u001b[39m=\u001b[39m \u001b[39mself\u001b[39m\u001b[39m.\u001b[39mw_perm\u001b[39m.\u001b[39mtranspose(\u001b[39m0\u001b[39m, \u001b[39m1\u001b[39m)\u001b[39m.\u001b[39mcontiguous()\n\u001b[1;32m    234\u001b[0m \u001b[39mif\u001b[39;00m rev:\n\u001b[0;32m--> 235\u001b[0m     x, global_scaling_jac \u001b[39m=\u001b[39m \u001b[39mself\u001b[39;49m\u001b[39m.\u001b[39;49m_permute(x[\u001b[39m0\u001b[39;49m], rev\u001b[39m=\u001b[39;49m\u001b[39mTrue\u001b[39;49;00m)\n\u001b[1;32m    236\u001b[0m     x \u001b[39m=\u001b[39m (x,)\n\u001b[1;32m    237\u001b[0m \u001b[39melif\u001b[39;00m \u001b[39mself\u001b[39m\u001b[39m.\u001b[39mreverse_pre_permute:\n",
      "File \u001b[0;32m~/anaconda3/envs/learning_limit_cycles/lib/python3.9/site-packages/FrEIA/modules/all_in_one_block.py:192\u001b[0m, in \u001b[0;36mAllInOneBlock._permute\u001b[0;34m(self, x, rev)\u001b[0m\n\u001b[1;32m    189\u001b[0m     perm_log_jac \u001b[39m=\u001b[39m torch\u001b[39m.\u001b[39msum(torch\u001b[39m.\u001b[39mlog(scale))\n\u001b[1;32m    191\u001b[0m \u001b[39mif\u001b[39;00m rev:\n\u001b[0;32m--> 192\u001b[0m     \u001b[39mreturn\u001b[39;00m ((\u001b[39mself\u001b[39;49m\u001b[39m.\u001b[39;49mpermute_function(x, \u001b[39mself\u001b[39;49m\u001b[39m.\u001b[39;49mw_perm_inv) \u001b[39m-\u001b[39m \u001b[39mself\u001b[39m\u001b[39m.\u001b[39mglobal_offset) \u001b[39m/\u001b[39m scale,\n\u001b[1;32m    193\u001b[0m             perm_log_jac)\n\u001b[1;32m    194\u001b[0m \u001b[39melse\u001b[39;00m:\n\u001b[1;32m    195\u001b[0m     \u001b[39mreturn\u001b[39;00m (\u001b[39mself\u001b[39m\u001b[39m.\u001b[39mpermute_function(x \u001b[39m*\u001b[39m scale \u001b[39m+\u001b[39m \u001b[39mself\u001b[39m\u001b[39m.\u001b[39mglobal_offset, \u001b[39mself\u001b[39m\u001b[39m.\u001b[39mw_perm),\n\u001b[1;32m    196\u001b[0m             perm_log_jac)\n",
      "\u001b[0;31mRuntimeError\u001b[0m: Expected all tensors to be on the same device, but found at least two devices, cuda:0 and cpu! (when checking argument for argument mat in method wrapper_addmv_)"
     ]
    }
   ],
   "source": [
    "model_v = model.v\n",
    "\n",
    "class TorchToNumpyVectorFieldWrapper(vector_field.VectorField):\n",
    "    def __init__(self, f: nn.Module):\n",
    "        self.f = f \n",
    "    \n",
    "    def get_gradient(self, x):\n",
    "        x_t = torch.from_numpy(x.astype(np.float32))\n",
    "        x_t = x_t.to(self.f.device)\n",
    "        with torch.no_grad():\n",
    "            p_t = self.f(x_t)\n",
    "        return p_t.detach().cpu().numpy().astype(np.float64)\n",
    "\n",
    "model_wrapped = TorchToNumpyVectorFieldWrapper(model_v)\n",
    "h = utilities.simulate_trajectory(\n",
    "    model_wrapped, \n",
    "    np.array([0.5, 0.5]),\n",
    "    step_size=0.1, \n",
    "    num_iters = 100,\n",
    "    grad_clip=1,\n",
    "    ascending=True\n",
    ")\n",
    "plotting.plot_histories([h], figsize=(5,5))"
   ]
  }
 ],
 "metadata": {
  "kernelspec": {
   "display_name": "Python 3.9.12 ('learning_limit_cycles')",
   "language": "python",
   "name": "python3"
  },
  "language_info": {
   "codemirror_mode": {
    "name": "ipython",
    "version": 3
   },
   "file_extension": ".py",
   "mimetype": "text/x-python",
   "name": "python",
   "nbconvert_exporter": "python",
   "pygments_lexer": "ipython3",
   "version": "3.9.12"
  },
  "orig_nbformat": 4,
  "vscode": {
   "interpreter": {
    "hash": "a206ec0122b7acffea2d2fa9d25828201c2466f59fac81824c088fb35f7dc495"
   }
  }
 },
 "nbformat": 4,
 "nbformat_minor": 2
}
